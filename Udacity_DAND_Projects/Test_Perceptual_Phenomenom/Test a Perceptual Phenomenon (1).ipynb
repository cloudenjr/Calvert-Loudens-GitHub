{
 "cells": [
  {
   "cell_type": "markdown",
   "metadata": {},
   "source": [
    "### Analysing the Stroop Effect"
   ]
  },
  {
   "cell_type": "markdown",
   "metadata": {},
   "source": [
    "In this project, we'll take a look at the Stroop Effect and analyze the sample data provided.  Using descriptive \n",
    "statistics, we'll break down some key dataset attributes to get a better idea and picture of the data we're working with.  Once we have a better understanding of the data, we can then formalize an hypothesis and use the appropriate statistical tests to either confirm or disprove our hypothesis. "
   ]
  },
  {
   "cell_type": "markdown",
   "metadata": {},
   "source": [
    "(1) What is the independent variable? What is the dependent variable?"
   ]
  },
  {
   "cell_type": "markdown",
   "metadata": {},
   "source": [
    "With regards to the Stroop Effect experiment, the congruent variable is the independent variable, or congruency of the color and text. While the dependent variable is the incongruent varible, where we'll measure the difference or duration in time to recognize the correct colors or texts. "
   ]
  },
  {
   "cell_type": "markdown",
   "metadata": {},
   "source": [
    "(2) What is an appropriate set of hypotheses for this task? Specify your null and alternative hypotheses, and clearly define any notation used. Justify your choices."
   ]
  },
  {
   "cell_type": "markdown",
   "metadata": {},
   "source": [
    "Null and Alternative(alt) Hypotheses: \n",
    "\n",
    "Null Hypothesis:\n",
    "**$H_{null}$:       $congruent_{time}$ < $incongruent_{time}$**\n",
    "  \n",
    "  The time associated with correctly identifying the congruent variable will be less than the time it takes to \n",
    "  correctly identify the incongruent variable.\n",
    "\n",
    "Alternative Hypothesis:\n",
    "**$H_{alt}$:        $congruent_{time}$ > $incongruent_{time}$**\n",
    "\n",
    "  The time associated with correctly indentifying the incongruent variable will be less than the time it takes to \n",
    "  correctly indentify the congruent variable."
   ]
  },
  {
   "cell_type": "markdown",
   "metadata": {},
   "source": [
    "Hypothesis testing is a common practice used to determine whether a proposition (Null Hypothesis) can be rejected based on sample data. Here, we'll use the bootstrapping method to conduct a statistical test to define time as a representation of the population mean. I chose the bootstrapping method because we currently have a sample of data and not a population. One of the advantages to using the bootstrapping method is that we can resample, with replacement, the sample data at hand to create a larger number of ghost samples to further examine the distribution of the original dataset compared to that of the sample sets created. "
   ]
  },
  {
   "cell_type": "markdown",
   "metadata": {},
   "source": [
    "(3) Report some descriptive statistics regarding this dataset. Include at least one measure of central tendency and at least one measure of variability. The name of the data file is 'stroopdata.csv'."
   ]
  },
  {
   "cell_type": "code",
   "execution_count": 4,
   "metadata": {},
   "outputs": [],
   "source": [
    "# my imports to conduct data analysis and manipulations\n",
    "\n",
    "import pandas as pd\n",
    "from pandas import Series,DataFrame\n",
    "\n",
    "import numpy as np\n",
    "\n",
    "# my imports for visualizations\n",
    "\n",
    "import matplotlib.pyplot as plt\n",
    "import seaborn as sns\n",
    "sns.set_style('darkgrid')\n",
    "%matplotlib inline\n"
   ]
  },
  {
   "cell_type": "code",
   "execution_count": 5,
   "metadata": {},
   "outputs": [],
   "source": [
    "# LOADING MY DATA:\n",
    "\n",
    "# I'll set up a data frame using the stroop.csv file.  First, I'll create a variable for the file path of \n",
    "# the stroop csv file, then pass it to the .read_csv method in Pandas.\n",
    "\n",
    "stroop_fp = '/Volumes/LACIE SETUP/Data_Science/Udacity_DataAnalyst_NanoDegree_Projects/' \\\n",
    "             'Test_Perceptual_Phenomenon/stroopdata.csv'\n"
   ]
  },
  {
   "cell_type": "code",
   "execution_count": 6,
   "metadata": {},
   "outputs": [],
   "source": [
    "# Initializing my data frame using the .read_csv method in Pandas\n",
    "\n",
    "strp_data_df = pd.read_csv(stroop_fp)"
   ]
  },
  {
   "cell_type": "code",
   "execution_count": 7,
   "metadata": {},
   "outputs": [
    {
     "data": {
      "text/html": [
       "<div>\n",
       "<style scoped>\n",
       "    .dataframe tbody tr th:only-of-type {\n",
       "        vertical-align: middle;\n",
       "    }\n",
       "\n",
       "    .dataframe tbody tr th {\n",
       "        vertical-align: top;\n",
       "    }\n",
       "\n",
       "    .dataframe thead th {\n",
       "        text-align: right;\n",
       "    }\n",
       "</style>\n",
       "<table border=\"1\" class=\"dataframe\">\n",
       "  <thead>\n",
       "    <tr style=\"text-align: right;\">\n",
       "      <th></th>\n",
       "      <th>Congruent</th>\n",
       "      <th>Incongruent</th>\n",
       "    </tr>\n",
       "  </thead>\n",
       "  <tbody>\n",
       "    <tr>\n",
       "      <th>0</th>\n",
       "      <td>12.079</td>\n",
       "      <td>19.278</td>\n",
       "    </tr>\n",
       "    <tr>\n",
       "      <th>1</th>\n",
       "      <td>16.791</td>\n",
       "      <td>18.741</td>\n",
       "    </tr>\n",
       "    <tr>\n",
       "      <th>2</th>\n",
       "      <td>9.564</td>\n",
       "      <td>21.214</td>\n",
       "    </tr>\n",
       "    <tr>\n",
       "      <th>3</th>\n",
       "      <td>8.630</td>\n",
       "      <td>15.687</td>\n",
       "    </tr>\n",
       "    <tr>\n",
       "      <th>4</th>\n",
       "      <td>14.669</td>\n",
       "      <td>22.803</td>\n",
       "    </tr>\n",
       "  </tbody>\n",
       "</table>\n",
       "</div>"
      ],
      "text/plain": [
       "   Congruent  Incongruent\n",
       "0     12.079       19.278\n",
       "1     16.791       18.741\n",
       "2      9.564       21.214\n",
       "3      8.630       15.687\n",
       "4     14.669       22.803"
      ]
     },
     "execution_count": 7,
     "metadata": {},
     "output_type": "execute_result"
    }
   ],
   "source": [
    "# checking my dataframe\n",
    "strp_data_df.head()"
   ]
  },
  {
   "cell_type": "code",
   "execution_count": 8,
   "metadata": {},
   "outputs": [
    {
     "name": "stdout",
     "output_type": "stream",
     "text": [
      "<class 'pandas.core.frame.DataFrame'>\n",
      "RangeIndex: 24 entries, 0 to 23\n",
      "Data columns (total 2 columns):\n",
      "Congruent      24 non-null float64\n",
      "Incongruent    24 non-null float64\n",
      "dtypes: float64(2)\n",
      "memory usage: 464.0 bytes\n"
     ]
    }
   ],
   "source": [
    "# getting a little info on the dataset at a high level, # of rows, columns, any missing data, etc.\n",
    "strp_data_df.info()"
   ]
  },
  {
   "cell_type": "markdown",
   "metadata": {},
   "source": [
    "Now let's use some descriptive statistics, like measures of central tendency and dispersion, to better understand our\n",
    "dataset and it's properties.  This will help me choose the appropriate technique or techniques for analzying the \n",
    "stroop dataset. "
   ]
  },
  {
   "cell_type": "markdown",
   "metadata": {},
   "source": [
    "### Measures of Central Tendency"
   ]
  },
  {
   "cell_type": "markdown",
   "metadata": {},
   "source": [
    "The mean, median and mode are measures of central tendency and describe the location of the data. Let's calculate them."
   ]
  },
  {
   "cell_type": "code",
   "execution_count": 9,
   "metadata": {},
   "outputs": [
    {
     "data": {
      "text/plain": [
       "Congruent      14.051125\n",
       "Incongruent    22.015917\n",
       "dtype: float64"
      ]
     },
     "execution_count": 9,
     "metadata": {},
     "output_type": "execute_result"
    }
   ],
   "source": [
    "# calculating the mean of the dataset for each element/variable\n",
    "strp_data_df.mean()"
   ]
  },
  {
   "cell_type": "markdown",
   "metadata": {},
   "source": [
    "Here, we've calculated the mean for the **_congruent_** variable as well as the **_incongruent_** variable. The mean is just an average value of the entire dataset for a particular variable.  In this case, the `.mean` function adds up all the values for a particular element, then divides by the number of elements to get the mean."
   ]
  },
  {
   "cell_type": "code",
   "execution_count": 10,
   "metadata": {},
   "outputs": [
    {
     "data": {
      "text/html": [
       "<div>\n",
       "<style scoped>\n",
       "    .dataframe tbody tr th:only-of-type {\n",
       "        vertical-align: middle;\n",
       "    }\n",
       "\n",
       "    .dataframe tbody tr th {\n",
       "        vertical-align: top;\n",
       "    }\n",
       "\n",
       "    .dataframe thead th {\n",
       "        text-align: right;\n",
       "    }\n",
       "</style>\n",
       "<table border=\"1\" class=\"dataframe\">\n",
       "  <thead>\n",
       "    <tr style=\"text-align: right;\">\n",
       "      <th></th>\n",
       "      <th>Congruent</th>\n",
       "      <th>Incongruent</th>\n",
       "    </tr>\n",
       "  </thead>\n",
       "  <tbody>\n",
       "    <tr>\n",
       "      <th>3</th>\n",
       "      <td>8.630</td>\n",
       "      <td>15.687</td>\n",
       "    </tr>\n",
       "    <tr>\n",
       "      <th>7</th>\n",
       "      <td>8.987</td>\n",
       "      <td>17.394</td>\n",
       "    </tr>\n",
       "    <tr>\n",
       "      <th>8</th>\n",
       "      <td>9.401</td>\n",
       "      <td>20.762</td>\n",
       "    </tr>\n",
       "    <tr>\n",
       "      <th>2</th>\n",
       "      <td>9.564</td>\n",
       "      <td>21.214</td>\n",
       "    </tr>\n",
       "    <tr>\n",
       "      <th>17</th>\n",
       "      <td>10.639</td>\n",
       "      <td>20.429</td>\n",
       "    </tr>\n",
       "    <tr>\n",
       "      <th>18</th>\n",
       "      <td>11.344</td>\n",
       "      <td>17.425</td>\n",
       "    </tr>\n",
       "    <tr>\n",
       "      <th>0</th>\n",
       "      <td>12.079</td>\n",
       "      <td>19.278</td>\n",
       "    </tr>\n",
       "    <tr>\n",
       "      <th>15</th>\n",
       "      <td>12.130</td>\n",
       "      <td>22.158</td>\n",
       "    </tr>\n",
       "    <tr>\n",
       "      <th>5</th>\n",
       "      <td>12.238</td>\n",
       "      <td>20.878</td>\n",
       "    </tr>\n",
       "    <tr>\n",
       "      <th>19</th>\n",
       "      <td>12.369</td>\n",
       "      <td>34.288</td>\n",
       "    </tr>\n",
       "    <tr>\n",
       "      <th>20</th>\n",
       "      <td>12.944</td>\n",
       "      <td>23.894</td>\n",
       "    </tr>\n",
       "    <tr>\n",
       "      <th>21</th>\n",
       "      <td>14.233</td>\n",
       "      <td>17.960</td>\n",
       "    </tr>\n",
       "    <tr>\n",
       "      <th>9</th>\n",
       "      <td>14.480</td>\n",
       "      <td>26.282</td>\n",
       "    </tr>\n",
       "    <tr>\n",
       "      <th>4</th>\n",
       "      <td>14.669</td>\n",
       "      <td>22.803</td>\n",
       "    </tr>\n",
       "    <tr>\n",
       "      <th>6</th>\n",
       "      <td>14.692</td>\n",
       "      <td>24.572</td>\n",
       "    </tr>\n",
       "    <tr>\n",
       "      <th>12</th>\n",
       "      <td>15.073</td>\n",
       "      <td>17.510</td>\n",
       "    </tr>\n",
       "    <tr>\n",
       "      <th>11</th>\n",
       "      <td>15.298</td>\n",
       "      <td>18.644</td>\n",
       "    </tr>\n",
       "    <tr>\n",
       "      <th>23</th>\n",
       "      <td>16.004</td>\n",
       "      <td>21.157</td>\n",
       "    </tr>\n",
       "    <tr>\n",
       "      <th>1</th>\n",
       "      <td>16.791</td>\n",
       "      <td>18.741</td>\n",
       "    </tr>\n",
       "    <tr>\n",
       "      <th>13</th>\n",
       "      <td>16.929</td>\n",
       "      <td>20.330</td>\n",
       "    </tr>\n",
       "    <tr>\n",
       "      <th>14</th>\n",
       "      <td>18.200</td>\n",
       "      <td>35.255</td>\n",
       "    </tr>\n",
       "    <tr>\n",
       "      <th>16</th>\n",
       "      <td>18.495</td>\n",
       "      <td>25.139</td>\n",
       "    </tr>\n",
       "    <tr>\n",
       "      <th>22</th>\n",
       "      <td>19.710</td>\n",
       "      <td>22.058</td>\n",
       "    </tr>\n",
       "    <tr>\n",
       "      <th>10</th>\n",
       "      <td>22.328</td>\n",
       "      <td>24.524</td>\n",
       "    </tr>\n",
       "  </tbody>\n",
       "</table>\n",
       "</div>"
      ],
      "text/plain": [
       "    Congruent  Incongruent\n",
       "3       8.630       15.687\n",
       "7       8.987       17.394\n",
       "8       9.401       20.762\n",
       "2       9.564       21.214\n",
       "17     10.639       20.429\n",
       "18     11.344       17.425\n",
       "0      12.079       19.278\n",
       "15     12.130       22.158\n",
       "5      12.238       20.878\n",
       "19     12.369       34.288\n",
       "20     12.944       23.894\n",
       "21     14.233       17.960\n",
       "9      14.480       26.282\n",
       "4      14.669       22.803\n",
       "6      14.692       24.572\n",
       "12     15.073       17.510\n",
       "11     15.298       18.644\n",
       "23     16.004       21.157\n",
       "1      16.791       18.741\n",
       "13     16.929       20.330\n",
       "14     18.200       35.255\n",
       "16     18.495       25.139\n",
       "22     19.710       22.058\n",
       "10     22.328       24.524"
      ]
     },
     "execution_count": 10,
     "metadata": {},
     "output_type": "execute_result"
    }
   ],
   "source": [
    "# calculating the median of the dataset for each element/variable\n",
    "strp_data_df.sort_values(['Congruent'], ascending=True)"
   ]
  },
  {
   "cell_type": "code",
   "execution_count": 11,
   "metadata": {},
   "outputs": [
    {
     "name": "stdout",
     "output_type": "stream",
     "text": [
      "The median value of the congruent variable within this dataset is: 14.5165\n"
     ]
    }
   ],
   "source": [
    "# Now that the congruent variable is sorted in ascending order, I can calculate the median\n",
    "\n",
    "median_value = (14.233 + 14.80) / 2\n",
    "\n",
    "print(\"The median value of the congruent variable within this dataset is:\", median_value)"
   ]
  },
  {
   "cell_type": "markdown",
   "metadata": {},
   "source": [
    "The median value of the congruent variable is 14.5165. The median of a dataset is its midpoint. In order to get this, I had to first sort the congruent column in ascending order. Once I've done that, and knowing the number of elements in the dataset, 24, I can sum the values of the 12th and 13th largest values, its midpoint, then divide by 2 to get the median. "
   ]
  },
  {
   "cell_type": "code",
   "execution_count": 12,
   "metadata": {},
   "outputs": [
    {
     "data": {
      "text/html": [
       "<div>\n",
       "<style scoped>\n",
       "    .dataframe tbody tr th:only-of-type {\n",
       "        vertical-align: middle;\n",
       "    }\n",
       "\n",
       "    .dataframe tbody tr th {\n",
       "        vertical-align: top;\n",
       "    }\n",
       "\n",
       "    .dataframe thead th {\n",
       "        text-align: right;\n",
       "    }\n",
       "</style>\n",
       "<table border=\"1\" class=\"dataframe\">\n",
       "  <thead>\n",
       "    <tr style=\"text-align: right;\">\n",
       "      <th></th>\n",
       "      <th>Congruent</th>\n",
       "      <th>Incongruent</th>\n",
       "    </tr>\n",
       "  </thead>\n",
       "  <tbody>\n",
       "    <tr>\n",
       "      <th>3</th>\n",
       "      <td>8.630</td>\n",
       "      <td>15.687</td>\n",
       "    </tr>\n",
       "    <tr>\n",
       "      <th>7</th>\n",
       "      <td>8.987</td>\n",
       "      <td>17.394</td>\n",
       "    </tr>\n",
       "    <tr>\n",
       "      <th>18</th>\n",
       "      <td>11.344</td>\n",
       "      <td>17.425</td>\n",
       "    </tr>\n",
       "    <tr>\n",
       "      <th>12</th>\n",
       "      <td>15.073</td>\n",
       "      <td>17.510</td>\n",
       "    </tr>\n",
       "    <tr>\n",
       "      <th>21</th>\n",
       "      <td>14.233</td>\n",
       "      <td>17.960</td>\n",
       "    </tr>\n",
       "    <tr>\n",
       "      <th>11</th>\n",
       "      <td>15.298</td>\n",
       "      <td>18.644</td>\n",
       "    </tr>\n",
       "    <tr>\n",
       "      <th>1</th>\n",
       "      <td>16.791</td>\n",
       "      <td>18.741</td>\n",
       "    </tr>\n",
       "    <tr>\n",
       "      <th>0</th>\n",
       "      <td>12.079</td>\n",
       "      <td>19.278</td>\n",
       "    </tr>\n",
       "    <tr>\n",
       "      <th>13</th>\n",
       "      <td>16.929</td>\n",
       "      <td>20.330</td>\n",
       "    </tr>\n",
       "    <tr>\n",
       "      <th>17</th>\n",
       "      <td>10.639</td>\n",
       "      <td>20.429</td>\n",
       "    </tr>\n",
       "    <tr>\n",
       "      <th>8</th>\n",
       "      <td>9.401</td>\n",
       "      <td>20.762</td>\n",
       "    </tr>\n",
       "    <tr>\n",
       "      <th>5</th>\n",
       "      <td>12.238</td>\n",
       "      <td>20.878</td>\n",
       "    </tr>\n",
       "    <tr>\n",
       "      <th>23</th>\n",
       "      <td>16.004</td>\n",
       "      <td>21.157</td>\n",
       "    </tr>\n",
       "    <tr>\n",
       "      <th>2</th>\n",
       "      <td>9.564</td>\n",
       "      <td>21.214</td>\n",
       "    </tr>\n",
       "    <tr>\n",
       "      <th>22</th>\n",
       "      <td>19.710</td>\n",
       "      <td>22.058</td>\n",
       "    </tr>\n",
       "    <tr>\n",
       "      <th>15</th>\n",
       "      <td>12.130</td>\n",
       "      <td>22.158</td>\n",
       "    </tr>\n",
       "    <tr>\n",
       "      <th>4</th>\n",
       "      <td>14.669</td>\n",
       "      <td>22.803</td>\n",
       "    </tr>\n",
       "    <tr>\n",
       "      <th>20</th>\n",
       "      <td>12.944</td>\n",
       "      <td>23.894</td>\n",
       "    </tr>\n",
       "    <tr>\n",
       "      <th>10</th>\n",
       "      <td>22.328</td>\n",
       "      <td>24.524</td>\n",
       "    </tr>\n",
       "    <tr>\n",
       "      <th>6</th>\n",
       "      <td>14.692</td>\n",
       "      <td>24.572</td>\n",
       "    </tr>\n",
       "    <tr>\n",
       "      <th>16</th>\n",
       "      <td>18.495</td>\n",
       "      <td>25.139</td>\n",
       "    </tr>\n",
       "    <tr>\n",
       "      <th>9</th>\n",
       "      <td>14.480</td>\n",
       "      <td>26.282</td>\n",
       "    </tr>\n",
       "    <tr>\n",
       "      <th>19</th>\n",
       "      <td>12.369</td>\n",
       "      <td>34.288</td>\n",
       "    </tr>\n",
       "    <tr>\n",
       "      <th>14</th>\n",
       "      <td>18.200</td>\n",
       "      <td>35.255</td>\n",
       "    </tr>\n",
       "  </tbody>\n",
       "</table>\n",
       "</div>"
      ],
      "text/plain": [
       "    Congruent  Incongruent\n",
       "3       8.630       15.687\n",
       "7       8.987       17.394\n",
       "18     11.344       17.425\n",
       "12     15.073       17.510\n",
       "21     14.233       17.960\n",
       "11     15.298       18.644\n",
       "1      16.791       18.741\n",
       "0      12.079       19.278\n",
       "13     16.929       20.330\n",
       "17     10.639       20.429\n",
       "8       9.401       20.762\n",
       "5      12.238       20.878\n",
       "23     16.004       21.157\n",
       "2       9.564       21.214\n",
       "22     19.710       22.058\n",
       "15     12.130       22.158\n",
       "4      14.669       22.803\n",
       "20     12.944       23.894\n",
       "10     22.328       24.524\n",
       "6      14.692       24.572\n",
       "16     18.495       25.139\n",
       "9      14.480       26.282\n",
       "19     12.369       34.288\n",
       "14     18.200       35.255"
      ]
     },
     "execution_count": 12,
     "metadata": {},
     "output_type": "execute_result"
    }
   ],
   "source": [
    "# calculating the mode of the Incongruent variable\n",
    "\n",
    "strp_data_df.sort_values(['Incongruent'], ascending=True)"
   ]
  },
  {
   "cell_type": "markdown",
   "metadata": {},
   "source": [
    "The mode of a dataset is simply the most commonly observed value. After sorting the Incongruent column in ascending \n",
    "order, a quick glance (only 24 rows) has revealed there is no mode, or repeating value for this variable. I could also\n",
    "run the code `strp_data_df['Incongruent'].value_counts()` to get the mode as well. This will produce a count of how \n",
    "many times a value appears in the dataset."
   ]
  },
  {
   "cell_type": "markdown",
   "metadata": {},
   "source": [
    "### Measures of Dispersion"
   ]
  },
  {
   "cell_type": "markdown",
   "metadata": {},
   "source": [
    "Range, variance and standard deviation are 3 commonly used measures of dispersion. They show how spread out the elements of a sample or population are. Let's calculate them for our dataset."
   ]
  },
  {
   "cell_type": "code",
   "execution_count": 13,
   "metadata": {},
   "outputs": [
    {
     "name": "stdout",
     "output_type": "stream",
     "text": [
      "Congruent Range: 13.698000000000002\n",
      "Incongruent Range: 19.568\n"
     ]
    }
   ],
   "source": [
    "# calculating the range of the dataset for each element\n",
    "\n",
    "Congruent_Range = strp_data_df['Congruent'].max() - strp_data_df['Congruent'].min()\n",
    "\n",
    "print(\"Congruent Range:\", Congruent_Range)\n",
    "\n",
    "Incongruent_Range = strp_data_df['Incongruent'].max() - strp_data_df['Incongruent'].min()\n",
    "\n",
    "print(\"Incongruent Range:\", Incongruent_Range)"
   ]
  },
  {
   "cell_type": "markdown",
   "metadata": {},
   "source": [
    "The range of a dataset is the difference between its largest and smallest values for each element.  Here, we just calculated each range by using the min/max function and assigning it to a variable."
   ]
  },
  {
   "cell_type": "code",
   "execution_count": 16,
   "metadata": {},
   "outputs": [],
   "source": [
    "# calculating the variance using Numpy's built-in var function - first let's get the congruent column values put \n",
    "# into an array so Numpy can work with it\n",
    "\n",
    "cong_lst = np.array(strp_data_df['Congruent'])\n",
    "\n",
    "incon_lst = np.array(strp_data_df['Incongruent'])"
   ]
  },
  {
   "cell_type": "code",
   "execution_count": 19,
   "metadata": {},
   "outputs": [
    {
     "name": "stdout",
     "output_type": "stream",
     "text": [
      "The variance for congruent sample set is: 12.103184760183241\n",
      "The variance for the incongruent sample set is: 22.037065909293535\n"
     ]
    }
   ],
   "source": [
    "# Using Numpy's random.choice built-in function to simulate a sample size of 10,000 with replacement for both \n",
    "# variables\n",
    "\n",
    "cong_smp = np.random.choice(cong_lst, size=(10000, 24))\n",
    "\n",
    "incon_smp = np.random.choice(incon_lst, size=(10000, 24))\n",
    "\n",
    "print(\"The variance for congruent sample set is:\", np.var(cong_smp))\n",
    "\n",
    "print(\"The variance for the incongruent sample set is:\", np.var(incon_smp))"
   ]
  },
  {
   "cell_type": "code",
   "execution_count": 20,
   "metadata": {},
   "outputs": [
    {
     "name": "stdout",
     "output_type": "stream",
     "text": [
      "Congruent Standard Deviation: 3.478963173157089\n",
      "Incongruent Standard Deviation: 4.694365336154988\n"
     ]
    }
   ],
   "source": [
    "# Calculating the Standard Deviation(std)\n",
    "\n",
    "print(\"Congruent Standard Deviation:\", np.std(cong_smp))\n",
    "\n",
    "print(\"Incongruent Standard Deviation:\", np.std(incon_smp))"
   ]
  },
  {
   "cell_type": "markdown",
   "metadata": {},
   "source": [
    "Standard deviation is just the square root of the variance. This ensures that the deviation of a dataset is measured\n",
    "in the same units as the dataset.  That being said, this one was easy to calculate by using Numpy's built-in function\n",
    "`.std`. Here the standard deviation for the **_congruent_** variable is 3.4790, while the standard deviation for the \n",
    "**_incongruent_** variable is 4.6944. "
   ]
  },
  {
   "cell_type": "markdown",
   "metadata": {},
   "source": [
    "(4) Provide one or two visualizations that show the distribution of the sample data. Write one or two sentences noting what you observe about the plot or plots."
   ]
  },
  {
   "cell_type": "code",
   "execution_count": 26,
   "metadata": {},
   "outputs": [
    {
     "data": {
      "text/plain": [
       "Text(0.5,0,'Time in Seconds')"
      ]
     },
     "execution_count": 26,
     "metadata": {},
     "output_type": "execute_result"
    },
    {
     "data": {
      "image/png": "[encoded data removed]",
      "text/plain": [
       "<matplotlib.figure.Figure at 0x1a12fa14e0>"
      ]
     },
     "metadata": {},
     "output_type": "display_data"
    }
   ],
   "source": [
    "# Plotting a histogram of the stroop data dataframe\n",
    "\n",
    "strp_data_df.plot(kind='hist', figsize=(10,7))\n",
    "\n",
    "# setting my labels\n",
    "plt.title('The Distribution of the Stroop Dataset')\n",
    "plt.xlabel('Time in Seconds')"
   ]
  },
  {
   "cell_type": "markdown",
   "metadata": {},
   "source": [
    "This might seem a bit confusing at first, but if we take a minute and look closely, we can see the distribution of \n",
    "time between the **_congruent_** variable and the **_incongruent_** variable; this is conveyed by the shaded areas \n",
    "of the graph. Like the data shows, this graph also depicts the congruent variable needing less time to provide the \n",
    "correct answer (shaded area blue), versus the incongruent variable whose shaded area (orange) encompasses the \n",
    "lengthier second values."
   ]
  },
  {
   "cell_type": "code",
   "execution_count": 33,
   "metadata": {},
   "outputs": [
    {
     "data": {
      "image/png": "[encoded data removed]",
      "text/plain": [
       "<matplotlib.figure.Figure at 0x1a136dc5f8>"
      ]
     },
     "metadata": {},
     "output_type": "display_data"
    }
   ],
   "source": [
    "# Creating a matplotlib.axes.AxesSubplot object\n",
    "strp_data_fig, ax = plt.subplots(figsize=(10,7))\n",
    "\n",
    "# Setting the labels on my matplotlib object\n",
    "ax.set_xlabel('Number of Comparable Instances (24)')\n",
    "ax.set_ylabel('Time In Seconds')\n",
    "\n",
    "strp_data_df[['Congruent', 'Incongruent']].plot(kind='line',ax=ax, title=\"The Distribution of the Stroop Dataset\", \n",
    "                                                legend=True, style='--', marker='o');"
   ]
  },
  {
   "cell_type": "markdown",
   "metadata": {},
   "source": [
    "Ahhh. This is a bit more clear to understand.  Here we can see that for every instance of the congruent variable being\n",
    "indentified correctly(denoted by the dot) it took longer to identify the incongruent variable. "
   ]
  },
  {
   "cell_type": "markdown",
   "metadata": {},
   "source": [
    "(5)  Now, perform the statistical test and report your results. What is your confidence level or Type I error associated with your test? What is your conclusion regarding the hypotheses you set up? Did the results match up with your expectations? **Hint:**  Think about what is being measured on each individual, and what statistic best captures how an individual reacts in each environment."
   ]
  },
  {
   "cell_type": "code",
   "execution_count": 39,
   "metadata": {},
   "outputs": [],
   "source": [
    "# creating a 'congruent group' data frame from the congruent column. We'll make a df from the incongruent \n",
    "# group as well\n",
    "\n",
    "congruent_df = strp_data_df['Congruent']\n",
    "\n",
    "incongruent_df = strp_data_df['Incongruent']"
   ]
  },
  {
   "cell_type": "code",
   "execution_count": 44,
   "metadata": {},
   "outputs": [
    {
     "name": "stdout",
     "output_type": "stream",
     "text": [
      "The congruent dataframe shape is: (24,)\n",
      "The incongruent dataframe shape is: (24,)\n"
     ]
    }
   ],
   "source": [
    "# confirming the shape of my congruent df\n",
    "\n",
    "print(\"The congruent dataframe shape is:\", congruent_df.shape)\n",
    "\n",
    "print(\"The incongruent dataframe shape is:\", incongruent_df.shape)"
   ]
  },
  {
   "cell_type": "code",
   "execution_count": 48,
   "metadata": {},
   "outputs": [
    {
     "name": "stdout",
     "output_type": "stream",
     "text": [
      "The observed difference between incongruent and congruent variables in seconds is: 7.964791666666665\n"
     ]
    }
   ],
   "source": [
    "# creating mean variables both congruent and incongruent elements\n",
    "congruent_mean = congruent_df.mean()\n",
    "incongruent_mean = incongruent_df.mean()\n",
    "\n",
    "# computing the observed difference (incongruent value - congruent value) in time, seconds.\n",
    "obs_diff = incongruent_mean - congruent_mean\n",
    "\n",
    "print(\"The observed difference between incongruent and congruent variables in seconds is:\", obs_diff)"
   ]
  },
  {
   "cell_type": "code",
   "execution_count": 49,
   "metadata": {},
   "outputs": [],
   "source": [
    "diffs = []\n",
    "size = strp_data_df.shape[0]\n",
    "\n",
    "for i in range(10000):\n",
    "    b_samp = strp_data_df.sample(size, replace=True)\n",
    "    congruent_mean = b_samp['Congruent'].mean()\n",
    "    incongruent_mean = b_samp['Incongruent'].mean()\n",
    "    diffs.append(incongruent_mean - congruent_mean)"
   ]
  },
  {
   "cell_type": "code",
   "execution_count": 50,
   "metadata": {},
   "outputs": [],
   "source": [
    "diffs = np.array(diffs)"
   ]
  },
  {
   "cell_type": "code",
   "execution_count": 51,
   "metadata": {},
   "outputs": [
    {
     "data": {
      "image/png": "[encoded data removed]",
      "text/plain": [
       "<matplotlib.figure.Figure at 0x1a13858f60>"
      ]
     },
     "metadata": {},
     "output_type": "display_data"
    }
   ],
   "source": [
    "plt.hist(diffs);"
   ]
  },
  {
   "cell_type": "code",
   "execution_count": 52,
   "metadata": {},
   "outputs": [],
   "source": [
    "null_vals = np.random.normal(0, diffs.std(), diffs.size)"
   ]
  },
  {
   "cell_type": "code",
   "execution_count": 53,
   "metadata": {},
   "outputs": [
    {
     "data": {
      "image/png": "[encoded data removed]",
      "text/plain": [
       "<matplotlib.figure.Figure at 0x1a1318b518>"
      ]
     },
     "metadata": {},
     "output_type": "display_data"
    }
   ],
   "source": [
    "plt.hist(null_vals);"
   ]
  },
  {
   "cell_type": "code",
   "execution_count": 54,
   "metadata": {},
   "outputs": [
    {
     "data": {
      "image/png": "[encoded data removed]",
      "text/plain": [
       "<matplotlib.figure.Figure at 0x1a13a025c0>"
      ]
     },
     "metadata": {},
     "output_type": "display_data"
    }
   ],
   "source": [
    "# plotting the observed statistic\n",
    "\n",
    "plt.hist(null_vals);\n",
    "plt.axvline(x=obs_diff, color='r');"
   ]
  },
  {
   "cell_type": "markdown",
   "metadata": {},
   "source": [
    "Our statistic definitely doesn't look like it came from our Null distribution. Looks like the difference we observe is significant."
   ]
  },
  {
   "cell_type": "code",
   "execution_count": 55,
   "metadata": {},
   "outputs": [
    {
     "data": {
      "text/plain": [
       "0.0"
      ]
     },
     "execution_count": 55,
     "metadata": {},
     "output_type": "execute_result"
    }
   ],
   "source": [
    "# finding the p-value\n",
    "(null_vals > obs_diff).mean()"
   ]
  },
  {
   "cell_type": "markdown",
   "metadata": {},
   "source": [
    "With a p-value of less than 0.01 or 1%, it seems unlikely that our statistic is from the Null."
   ]
  },
  {
   "cell_type": "markdown",
   "metadata": {},
   "source": [
    "### Results"
   ]
  },
  {
   "cell_type": "markdown",
   "metadata": {},
   "source": [
    "The confidence level or Type I error associated with this test actually came out to be zero. From a glance both at the dataframe and the visualizations, the congruent variables (recorded times in seconds) were smaller than the incongruent variables. The statistical test run supports my original hypothesis, and based on the relationship between the test statistic and the critical value, being that the test statistic/observed diff is considered to be significant, we must fail to reject the Null Hypothesis. "
   ]
  },
  {
   "cell_type": "markdown",
   "metadata": {},
   "source": [
    "(6) Optional: What do you think is responsible for the effects observed? Can you think of an alternative or similar task that would result in a similar effect? Some research about the problem will be helpful for thinking about these two questions!"
   ]
  },
  {
   "cell_type": "markdown",
   "metadata": {},
   "source": [
    "--write answer here--"
   ]
  },
  {
   "cell_type": "markdown",
   "metadata": {},
   "source": [
    "### Resources"
   ]
  },
  {
   "cell_type": "markdown",
   "metadata": {},
   "source": [
    "- Complete Python Masterclass with Tim Buchalka, Jean-Paul Roberts (Udemy)\n",
    "- Learning Python for Data Analysis and Visualization with Jose Portilla (Udemy)\n",
    "- Python Crash Course with Eric Matthes\n",
    "- Udacity Lessons\n",
    "- Google/Stack Overflow\n",
    "- Udacity Slack Platform"
   ]
  },
  {
   "cell_type": "code",
   "execution_count": null,
   "metadata": {},
   "outputs": [],
   "source": []
  }
 ],
 "metadata": {
  "kernelspec": {
   "display_name": "Python 3",
   "language": "python",
   "name": "python3"
  },
  "language_info": {
   "codemirror_mode": {
    "name": "ipython",
    "version": 3
   },
   "file_extension": ".py",
   "mimetype": "text/x-python",
   "name": "python",
   "nbconvert_exporter": "python",
   "pygments_lexer": "ipython3",
   "version": "3.6.4"
  }
 },
 "nbformat": 4,
 "nbformat_minor": 2
}
